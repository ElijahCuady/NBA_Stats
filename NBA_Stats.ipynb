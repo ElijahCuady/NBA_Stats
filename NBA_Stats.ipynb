{
 "cells": [
  {
   "cell_type": "code",
   "execution_count": 1,
   "metadata": {},
   "outputs": [
    {
     "name": "stdout",
     "output_type": "stream",
     "text": [
      "Hva vil du se?\n",
      "PPG\n",
      "Hvilke spillere sine stats vil du se?\n",
      "Stephen Curry\n",
      "Hvilke spillere sine stats vil du se?\n",
      "Reggie Bullock\n",
      "Hvilke spillere sine stats vil du se?\n",
      "\n",
      "Stephen Curry  hadde en PPG average på 433    23.75\n",
      "dtype: float64  i sesongen 2014-15\n",
      "Reggie Bullock  hadde en PPG average på 390    1.916667\n",
      "dtype: float64  i sesongen 2014-15\n"
     ]
    }
   ],
   "source": [
    "import pandas as pd\n",
    "stats = pd.read_csv(\"Players_stats.csv\", sep = \",\")\n",
    "def PPG(navn):\n",
    "    for i in navn:\n",
    "        points = stats.loc[lambda stats: stats['Name'] == i, \"PTS\"]\n",
    "        games = stats.loc[lambda stats: stats['Name'] == i, \"Games Played\"]\n",
    "        PPG = points / games\n",
    "        print(i, \" hadde en PPG average på\", PPG, \" i sesongen 2014-15\")\n",
    "        \n",
    "def ToSt(players):\n",
    "    for i in players:\n",
    "        ToSt = stats.loc[lambda stats: stats['Name'] == i, \"STL/TOV\"]\n",
    "        print(i, \"Hadde en STL/TO ratio på: \", ToSt, \" i sesongen 2014-15\")\n",
    "    \n",
    "def show(players):\n",
    "    for i in players:\n",
    "        print(stats.loc[lambda stats: stats['Name'] == i])\n",
    "    \n",
    "op = input(\"Hva vil du se?\\n\")\n",
    "spillere = []\n",
    "if op == \"Vis stats\":\n",
    "    sant = True\n",
    "    while sant:\n",
    "        spiller = input(\"Hvilke spillere sine stats vil du se?\\n\")\n",
    "        if spiller != \"\":\n",
    "            spillere.append(spiller)\n",
    "        elif spiller == \"\":\n",
    "            sant = False\n",
    "    show(spillere)\n",
    "elif op == \"PPG\":\n",
    "    sant = True\n",
    "    while sant:\n",
    "        spiller = input(\"Hvilke spillere sine stats vil du se?\\n\")\n",
    "        if spiller != \"\":\n",
    "            spillere.append(spiller)\n",
    "        elif spiller == \"\":\n",
    "            sant = False\n",
    "    PPG(spillere)\n",
    "elif op == \"STL/TO\":\n",
    "    sant = True\n",
    "    while sant:\n",
    "        spiller = input(\"Hvilke spillere sine stats vil du se?\\n\")\n",
    "        if spiller != \"\":\n",
    "            spillere.append(spiller)\n",
    "        elif spiller == \"\":\n",
    "            sant = False\n",
    "    ToSt(spillere)"
   ]
  },
  {
   "cell_type": "code",
   "execution_count": 12,
   "metadata": {},
   "outputs": [],
   "source": []
  },
  {
   "cell_type": "code",
   "execution_count": null,
   "metadata": {},
   "outputs": [],
   "source": []
  },
  {
   "cell_type": "code",
   "execution_count": null,
   "metadata": {},
   "outputs": [],
   "source": []
  },
  {
   "cell_type": "code",
   "execution_count": null,
   "metadata": {},
   "outputs": [],
   "source": []
  },
  {
   "cell_type": "code",
   "execution_count": null,
   "metadata": {},
   "outputs": [],
   "source": []
  }
 ],
 "metadata": {
  "kernelspec": {
   "display_name": "Python 3",
   "language": "python",
   "name": "python3"
  },
  "language_info": {
   "codemirror_mode": {
    "name": "ipython",
    "version": 3
   },
   "file_extension": ".py",
   "mimetype": "text/x-python",
   "name": "python",
   "nbconvert_exporter": "python",
   "pygments_lexer": "ipython3",
   "version": "3.7.0"
  }
 },
 "nbformat": 4,
 "nbformat_minor": 2
}
